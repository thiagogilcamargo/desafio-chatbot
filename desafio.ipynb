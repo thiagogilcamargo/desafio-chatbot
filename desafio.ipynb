{
 "cells": [
  {
   "cell_type": "code",
   "execution_count": 2,
   "metadata": {},
   "outputs": [],
   "source": [
    "import numpy as np"
   ]
  },
  {
   "cell_type": "code",
   "execution_count": 3,
   "metadata": {},
   "outputs": [],
   "source": [
    "def media_aritmetica(lista):\n",
    "    return sum(lista) / len(lista)"
   ]
  },
  {
   "cell_type": "code",
   "execution_count": 4,
   "metadata": {},
   "outputs": [],
   "source": [
    "\n",
    "def media_geometrica(lista):\n",
    "    product = np.prod(lista)\n",
    "    return product ** (1 / len(lista))"
   ]
  },
  {
   "cell_type": "code",
   "execution_count": 5,
   "metadata": {},
   "outputs": [],
   "source": [
    "def media_harmonica(lista):\n",
    "    return len(lista) / sum(1 / x for x in lista)"
   ]
  },
  {
   "cell_type": "code",
   "execution_count": 6,
   "metadata": {},
   "outputs": [],
   "source": [
    "def media_ponderada(lista, pesos):\n",
    "    if len(lista) != len(pesos):\n",
    "        raise ValueError(\"As listas de valores e pesos devem ter o mesmo comprimento.\")\n",
    "    return sum(x * w for x, w in zip(lista, pesos)) / sum(pesos)"
   ]
  },
  {
   "cell_type": "code",
   "execution_count": 7,
   "metadata": {},
   "outputs": [],
   "source": [
    "\n",
    "x = [39, 38, 27, 22, 20, 17, 10, 10, 10, 10, 7, 7, 7, 7, 6]\n",
    "pesos = [1, 2, 3, 4, 5, 6, 7, 8, 9, 10, 11, 12, 13, 14, 15]"
   ]
  },
  {
   "cell_type": "code",
   "execution_count": 8,
   "metadata": {},
   "outputs": [
    {
     "name": "stderr",
     "output_type": "stream",
     "text": [
      "C:\\Users\\betob\\AppData\\Local\\Temp\\ipykernel_1162096\\2276236321.py:3: RuntimeWarning: invalid value encountered in power\n",
      "  return product ** (1 / len(lista))\n"
     ]
    }
   ],
   "source": [
    "media_aritmetica_result = media_aritmetica(x)\n",
    "media_geometrica_result = media_geometrica(x)\n",
    "media_harmonica_result = media_harmonica(x)\n",
    "media_ponderada_result = media_ponderada(x, pesos)"
   ]
  },
  {
   "cell_type": "code",
   "execution_count": 9,
   "metadata": {},
   "outputs": [
    {
     "name": "stdout",
     "output_type": "stream",
     "text": [
      "Média Aritmética: 15.8\n",
      "Média Geométrica: nan\n",
      "Média Harmônica: 10.858807403873502\n",
      "Média Ponderada: 10.55\n"
     ]
    }
   ],
   "source": [
    "print(\"Média Aritmética:\", media_aritmetica_result)\n",
    "print(\"Média Geométrica:\", media_geometrica_result)\n",
    "print(\"Média Harmônica:\", media_harmonica_result)\n",
    "print(\"Média Ponderada:\", media_ponderada_result)"
   ]
  },
  {
   "cell_type": "code",
   "execution_count": 10,
   "metadata": {},
   "outputs": [
    {
     "name": "stdout",
     "output_type": "stream",
     "text": [
      "Verificação ari > geo > harm não é verdadeira.\n"
     ]
    }
   ],
   "source": [
    "# Verificação\n",
    "if media_aritmetica_result > media_geometrica_result > media_harmonica_result:\n",
    "    print(\"Verificação ari > geo > harm é verdadeira.\")\n",
    "else:\n",
    "    print(\"Verificação ari > geo > harm não é verdadeira.\")"
   ]
  },
  {
   "cell_type": "code",
   "execution_count": 11,
   "metadata": {},
   "outputs": [
    {
     "name": "stdout",
     "output_type": "stream",
     "text": [
      "Requirement already satisfied: numpy in c:\\users\\betob\\appdata\\local\\programs\\python\\python310\\lib\\site-packages (1.24.3)Note: you may need to restart the kernel to use updated packages.\n"
     ]
    },
    {
     "name": "stderr",
     "output_type": "stream",
     "text": [
      "\n",
      "[notice] A new release of pip is available: 23.1.2 -> 23.2.1\n",
      "[notice] To update, run: python.exe -m pip install --upgrade pip\n"
     ]
    },
    {
     "name": "stdout",
     "output_type": "stream",
     "text": [
      "\n"
     ]
    }
   ],
   "source": [
    "pip install numpy"
   ]
  }
 ],
 "metadata": {
  "kernelspec": {
   "display_name": "Python 3",
   "language": "python",
   "name": "python3"
  },
  "language_info": {
   "codemirror_mode": {
    "name": "ipython",
    "version": 3
   },
   "file_extension": ".py",
   "mimetype": "text/x-python",
   "name": "python",
   "nbconvert_exporter": "python",
   "pygments_lexer": "ipython3",
   "version": "3.10.10"
  },
  "orig_nbformat": 4
 },
 "nbformat": 4,
 "nbformat_minor": 2
}
