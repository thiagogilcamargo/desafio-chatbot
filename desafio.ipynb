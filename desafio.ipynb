{
 "cells": [
  {
   "cell_type": "code",
   "execution_count": 52,
   "metadata": {},
   "outputs": [],
   "source": [
    "import numpy as np\n",
    "from scipy.stats import gmean"
   ]
  },
  {
   "cell_type": "code",
   "execution_count": 53,
   "metadata": {},
   "outputs": [],
   "source": [
    "def media_aritmetica(lista):\n",
    "    return sum(lista) / len(lista)"
   ]
  },
  {
   "cell_type": "code",
   "execution_count": 54,
   "metadata": {},
   "outputs": [],
   "source": [
    "\n",
    "def media_geometrica(lista):\n",
    "    if any(x <= 0 for x in lista):\n",
    "        raise ValueError(\"A média geométrica não pode ser calculada para valores não positivos.\")\n",
    "    product = np.prod(lista)\n",
    "    return product ** (1 / len(lista))"
   ]
  },
  {
   "cell_type": "code",
   "execution_count": 55,
   "metadata": {},
   "outputs": [],
   "source": [
    "def media_harmonica(lista):\n",
    "    return len(lista) / sum(1 / x for x in lista)"
   ]
  },
  {
   "cell_type": "code",
   "execution_count": 56,
   "metadata": {},
   "outputs": [],
   "source": [
    "def media_ponderada(lista, pesos):\n",
    "    if len(lista) != len(pesos):\n",
    "        raise ValueError(\"As listas de valores e pesos devem ter o mesmo comprimento.\")\n",
    "    return sum(x * w for x, w in zip(lista, pesos)) / sum(pesos)"
   ]
  },
  {
   "cell_type": "code",
   "execution_count": 57,
   "metadata": {},
   "outputs": [],
   "source": [
    "x = [39, 38, 27, 22, 20, 17, 10, 10, 10, 10, 7, 7, 7, 7, 6]\n",
    "pesos = list(range(1, len(x) + 1))"
   ]
  },
  {
   "cell_type": "code",
   "execution_count": 58,
   "metadata": {},
   "outputs": [],
   "source": [
    "media_aritmetica_result = media_aritmetica(x)\n",
    "media_geometrica_result = gmean(x)\n",
    "media_harmonica_result = media_harmonica(x)\n",
    "media_ponderada_result = media_ponderada(x, pesos)"
   ]
  },
  {
   "cell_type": "code",
   "execution_count": 59,
   "metadata": {},
   "outputs": [
    {
     "name": "stdout",
     "output_type": "stream",
     "text": [
      "Média Aritmética: 15.8\n",
      "Média Geométrica: 12.852189835252531\n",
      "Média Harmônica: 10.858807403873502\n",
      "Média Ponderada: 10.55\n"
     ]
    }
   ],
   "source": [
    "print(\"Média Aritmética:\", media_aritmetica_result)\n",
    "print(\"Média Geométrica:\", media_geometrica_result)\n",
    "print(\"Média Harmônica:\", media_harmonica_result)\n",
    "print(\"Média Ponderada:\", media_ponderada_result)"
   ]
  },
  {
   "cell_type": "code",
   "execution_count": 60,
   "metadata": {},
   "outputs": [
    {
     "name": "stdout",
     "output_type": "stream",
     "text": [
      "Verificação ari > geo > harm é verdadeira.\n"
     ]
    }
   ],
   "source": [
    "# Verificação\n",
    "if media_aritmetica_result > media_geometrica_result > media_harmonica_result:\n",
    "    print(\"Verificação ari > geo > harm é verdadeira.\")\n",
    "else:\n",
    "    print(\"Verificação ari > geo > harm não é verdadeira.\")"
   ]
  },
  {
   "cell_type": "code",
   "execution_count": 61,
   "metadata": {},
   "outputs": [],
   "source": [
    "#pip install numpy\n",
    "#pip install scipy\n"
   ]
  }
 ],
 "metadata": {
  "kernelspec": {
   "display_name": "Python 3",
   "language": "python",
   "name": "python3"
  },
  "language_info": {
   "codemirror_mode": {
    "name": "ipython",
    "version": 3
   },
   "file_extension": ".py",
   "mimetype": "text/x-python",
   "name": "python",
   "nbconvert_exporter": "python",
   "pygments_lexer": "ipython3",
   "version": "3.10.10"
  },
  "orig_nbformat": 4
 },
 "nbformat": 4,
 "nbformat_minor": 2
}
